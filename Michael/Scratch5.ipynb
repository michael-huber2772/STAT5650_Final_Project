{
 "cells": [
  {
   "cell_type": "code",
   "execution_count": 1,
   "metadata": {},
   "outputs": [],
   "source": [
    "hotel = read.csv(\"../../Data/hotel_bookings.csv\")"
   ]
  },
  {
   "cell_type": "code",
   "execution_count": 2,
   "metadata": {},
   "outputs": [
    {
     "data": {
      "text/html": [
       "<table>\n",
       "<thead><tr><th scope=col>hotel</th><th scope=col>is_canceled</th><th scope=col>lead_time</th><th scope=col>arrival_date_year</th><th scope=col>arrival_date_month</th><th scope=col>arrival_date_week_number</th><th scope=col>arrival_date_day_of_month</th><th scope=col>stays_in_weekend_nights</th><th scope=col>stays_in_week_nights</th><th scope=col>adults</th><th scope=col>...</th><th scope=col>deposit_type</th><th scope=col>agent</th><th scope=col>company</th><th scope=col>days_in_waiting_list</th><th scope=col>customer_type</th><th scope=col>adr</th><th scope=col>required_car_parking_spaces</th><th scope=col>total_of_special_requests</th><th scope=col>reservation_status</th><th scope=col>reservation_status_date</th></tr></thead>\n",
       "<tbody>\n",
       "\t<tr><td>Resort Hotel</td><td>0           </td><td>342         </td><td>2015        </td><td>July        </td><td>27          </td><td>1           </td><td>0           </td><td>0           </td><td>2           </td><td>...         </td><td>No Deposit  </td><td>NULL        </td><td>NULL        </td><td>0           </td><td>Transient   </td><td> 0          </td><td>0           </td><td>0           </td><td>Check-Out   </td><td>2015-07-01  </td></tr>\n",
       "\t<tr><td>Resort Hotel</td><td>0           </td><td>737         </td><td>2015        </td><td>July        </td><td>27          </td><td>1           </td><td>0           </td><td>0           </td><td>2           </td><td>...         </td><td>No Deposit  </td><td>NULL        </td><td>NULL        </td><td>0           </td><td>Transient   </td><td> 0          </td><td>0           </td><td>0           </td><td>Check-Out   </td><td>2015-07-01  </td></tr>\n",
       "\t<tr><td>Resort Hotel</td><td>0           </td><td>  7         </td><td>2015        </td><td>July        </td><td>27          </td><td>1           </td><td>0           </td><td>1           </td><td>1           </td><td>...         </td><td>No Deposit  </td><td>NULL        </td><td>NULL        </td><td>0           </td><td>Transient   </td><td>75          </td><td>0           </td><td>0           </td><td>Check-Out   </td><td>2015-07-02  </td></tr>\n",
       "\t<tr><td>Resort Hotel</td><td>0           </td><td> 13         </td><td>2015        </td><td>July        </td><td>27          </td><td>1           </td><td>0           </td><td>1           </td><td>1           </td><td>...         </td><td>No Deposit  </td><td>304         </td><td>NULL        </td><td>0           </td><td>Transient   </td><td>75          </td><td>0           </td><td>0           </td><td>Check-Out   </td><td>2015-07-02  </td></tr>\n",
       "\t<tr><td>Resort Hotel</td><td>0           </td><td> 14         </td><td>2015        </td><td>July        </td><td>27          </td><td>1           </td><td>0           </td><td>2           </td><td>2           </td><td>...         </td><td>No Deposit  </td><td>240         </td><td>NULL        </td><td>0           </td><td>Transient   </td><td>98          </td><td>0           </td><td>1           </td><td>Check-Out   </td><td>2015-07-03  </td></tr>\n",
       "\t<tr><td>Resort Hotel</td><td>0           </td><td> 14         </td><td>2015        </td><td>July        </td><td>27          </td><td>1           </td><td>0           </td><td>2           </td><td>2           </td><td>...         </td><td>No Deposit  </td><td>240         </td><td>NULL        </td><td>0           </td><td>Transient   </td><td>98          </td><td>0           </td><td>1           </td><td>Check-Out   </td><td>2015-07-03  </td></tr>\n",
       "</tbody>\n",
       "</table>\n"
      ],
      "text/latex": [
       "\\begin{tabular}{r|llllllllllllllllllllllllllllllll}\n",
       " hotel & is\\_canceled & lead\\_time & arrival\\_date\\_year & arrival\\_date\\_month & arrival\\_date\\_week\\_number & arrival\\_date\\_day\\_of\\_month & stays\\_in\\_weekend\\_nights & stays\\_in\\_week\\_nights & adults & ... & deposit\\_type & agent & company & days\\_in\\_waiting\\_list & customer\\_type & adr & required\\_car\\_parking\\_spaces & total\\_of\\_special\\_requests & reservation\\_status & reservation\\_status\\_date\\\\\n",
       "\\hline\n",
       "\t Resort Hotel & 0            & 342          & 2015         & July         & 27           & 1            & 0            & 0            & 2            & ...          & No Deposit   & NULL         & NULL         & 0            & Transient    &  0           & 0            & 0            & Check-Out    & 2015-07-01  \\\\\n",
       "\t Resort Hotel & 0            & 737          & 2015         & July         & 27           & 1            & 0            & 0            & 2            & ...          & No Deposit   & NULL         & NULL         & 0            & Transient    &  0           & 0            & 0            & Check-Out    & 2015-07-01  \\\\\n",
       "\t Resort Hotel & 0            &   7          & 2015         & July         & 27           & 1            & 0            & 1            & 1            & ...          & No Deposit   & NULL         & NULL         & 0            & Transient    & 75           & 0            & 0            & Check-Out    & 2015-07-02  \\\\\n",
       "\t Resort Hotel & 0            &  13          & 2015         & July         & 27           & 1            & 0            & 1            & 1            & ...          & No Deposit   & 304          & NULL         & 0            & Transient    & 75           & 0            & 0            & Check-Out    & 2015-07-02  \\\\\n",
       "\t Resort Hotel & 0            &  14          & 2015         & July         & 27           & 1            & 0            & 2            & 2            & ...          & No Deposit   & 240          & NULL         & 0            & Transient    & 98           & 0            & 1            & Check-Out    & 2015-07-03  \\\\\n",
       "\t Resort Hotel & 0            &  14          & 2015         & July         & 27           & 1            & 0            & 2            & 2            & ...          & No Deposit   & 240          & NULL         & 0            & Transient    & 98           & 0            & 1            & Check-Out    & 2015-07-03  \\\\\n",
       "\\end{tabular}\n"
      ],
      "text/markdown": [
       "\n",
       "| hotel | is_canceled | lead_time | arrival_date_year | arrival_date_month | arrival_date_week_number | arrival_date_day_of_month | stays_in_weekend_nights | stays_in_week_nights | adults | ... | deposit_type | agent | company | days_in_waiting_list | customer_type | adr | required_car_parking_spaces | total_of_special_requests | reservation_status | reservation_status_date |\n",
       "|---|---|---|---|---|---|---|---|---|---|---|---|---|---|---|---|---|---|---|---|---|\n",
       "| Resort Hotel | 0            | 342          | 2015         | July         | 27           | 1            | 0            | 0            | 2            | ...          | No Deposit   | NULL         | NULL         | 0            | Transient    |  0           | 0            | 0            | Check-Out    | 2015-07-01   |\n",
       "| Resort Hotel | 0            | 737          | 2015         | July         | 27           | 1            | 0            | 0            | 2            | ...          | No Deposit   | NULL         | NULL         | 0            | Transient    |  0           | 0            | 0            | Check-Out    | 2015-07-01   |\n",
       "| Resort Hotel | 0            |   7          | 2015         | July         | 27           | 1            | 0            | 1            | 1            | ...          | No Deposit   | NULL         | NULL         | 0            | Transient    | 75           | 0            | 0            | Check-Out    | 2015-07-02   |\n",
       "| Resort Hotel | 0            |  13          | 2015         | July         | 27           | 1            | 0            | 1            | 1            | ...          | No Deposit   | 304          | NULL         | 0            | Transient    | 75           | 0            | 0            | Check-Out    | 2015-07-02   |\n",
       "| Resort Hotel | 0            |  14          | 2015         | July         | 27           | 1            | 0            | 2            | 2            | ...          | No Deposit   | 240          | NULL         | 0            | Transient    | 98           | 0            | 1            | Check-Out    | 2015-07-03   |\n",
       "| Resort Hotel | 0            |  14          | 2015         | July         | 27           | 1            | 0            | 2            | 2            | ...          | No Deposit   | 240          | NULL         | 0            | Transient    | 98           | 0            | 1            | Check-Out    | 2015-07-03   |\n",
       "\n"
      ],
      "text/plain": [
       "  hotel        is_canceled lead_time arrival_date_year arrival_date_month\n",
       "1 Resort Hotel 0           342       2015              July              \n",
       "2 Resort Hotel 0           737       2015              July              \n",
       "3 Resort Hotel 0             7       2015              July              \n",
       "4 Resort Hotel 0            13       2015              July              \n",
       "5 Resort Hotel 0            14       2015              July              \n",
       "6 Resort Hotel 0            14       2015              July              \n",
       "  arrival_date_week_number arrival_date_day_of_month stays_in_weekend_nights\n",
       "1 27                       1                         0                      \n",
       "2 27                       1                         0                      \n",
       "3 27                       1                         0                      \n",
       "4 27                       1                         0                      \n",
       "5 27                       1                         0                      \n",
       "6 27                       1                         0                      \n",
       "  stays_in_week_nights adults ... deposit_type agent company\n",
       "1 0                    2      ... No Deposit   NULL  NULL   \n",
       "2 0                    2      ... No Deposit   NULL  NULL   \n",
       "3 1                    1      ... No Deposit   NULL  NULL   \n",
       "4 1                    1      ... No Deposit   304   NULL   \n",
       "5 2                    2      ... No Deposit   240   NULL   \n",
       "6 2                    2      ... No Deposit   240   NULL   \n",
       "  days_in_waiting_list customer_type adr required_car_parking_spaces\n",
       "1 0                    Transient      0  0                          \n",
       "2 0                    Transient      0  0                          \n",
       "3 0                    Transient     75  0                          \n",
       "4 0                    Transient     75  0                          \n",
       "5 0                    Transient     98  0                          \n",
       "6 0                    Transient     98  0                          \n",
       "  total_of_special_requests reservation_status reservation_status_date\n",
       "1 0                         Check-Out          2015-07-01             \n",
       "2 0                         Check-Out          2015-07-01             \n",
       "3 0                         Check-Out          2015-07-02             \n",
       "4 0                         Check-Out          2015-07-02             \n",
       "5 1                         Check-Out          2015-07-03             \n",
       "6 1                         Check-Out          2015-07-03             "
      ]
     },
     "metadata": {},
     "output_type": "display_data"
    }
   ],
   "source": [
    "head(hotel)"
   ]
  },
  {
   "cell_type": "code",
   "execution_count": 3,
   "metadata": {},
   "outputs": [
    {
     "data": {
      "text/plain": [
       "          hotel        is_canceled       lead_time   arrival_date_year\n",
       " City Hotel  :79330   Min.   :0.0000   Min.   :  0   Min.   :2015     \n",
       " Resort Hotel:40060   1st Qu.:0.0000   1st Qu.: 18   1st Qu.:2016     \n",
       "                      Median :0.0000   Median : 69   Median :2016     \n",
       "                      Mean   :0.3704   Mean   :104   Mean   :2016     \n",
       "                      3rd Qu.:1.0000   3rd Qu.:160   3rd Qu.:2017     \n",
       "                      Max.   :1.0000   Max.   :737   Max.   :2017     \n",
       "                                                                      \n",
       " arrival_date_month arrival_date_week_number arrival_date_day_of_month\n",
       " August :13877      Min.   : 1.00            Min.   : 1.0             \n",
       " July   :12661      1st Qu.:16.00            1st Qu.: 8.0             \n",
       " May    :11791      Median :28.00            Median :16.0             \n",
       " October:11160      Mean   :27.17            Mean   :15.8             \n",
       " April  :11089      3rd Qu.:38.00            3rd Qu.:23.0             \n",
       " June   :10939      Max.   :53.00            Max.   :31.0             \n",
       " (Other):47873                                                        \n",
       " stays_in_weekend_nights stays_in_week_nights     adults      \n",
       " Min.   : 0.0000         Min.   : 0.0         Min.   : 0.000  \n",
       " 1st Qu.: 0.0000         1st Qu.: 1.0         1st Qu.: 2.000  \n",
       " Median : 1.0000         Median : 2.0         Median : 2.000  \n",
       " Mean   : 0.9276         Mean   : 2.5         Mean   : 1.856  \n",
       " 3rd Qu.: 2.0000         3rd Qu.: 3.0         3rd Qu.: 2.000  \n",
       " Max.   :19.0000         Max.   :50.0         Max.   :55.000  \n",
       "                                                              \n",
       "    children           babies                 meal          country     \n",
       " Min.   : 0.0000   Min.   : 0.000000   BB       :92310   PRT    :48590  \n",
       " 1st Qu.: 0.0000   1st Qu.: 0.000000   FB       :  798   GBR    :12129  \n",
       " Median : 0.0000   Median : 0.000000   HB       :14463   FRA    :10415  \n",
       " Mean   : 0.1039   Mean   : 0.007949   SC       :10650   ESP    : 8568  \n",
       " 3rd Qu.: 0.0000   3rd Qu.: 0.000000   Undefined: 1169   DEU    : 7287  \n",
       " Max.   :10.0000   Max.   :10.000000                     ITA    : 3766  \n",
       " NA's   :4                                               (Other):28635  \n",
       "       market_segment  distribution_channel is_repeated_guest\n",
       " Online TA    :56477   Corporate: 6677      Min.   :0.00000  \n",
       " Offline TA/TO:24219   Direct   :14645      1st Qu.:0.00000  \n",
       " Groups       :19811   GDS      :  193      Median :0.00000  \n",
       " Direct       :12606   TA/TO    :97870      Mean   :0.03191  \n",
       " Corporate    : 5295   Undefined:    5      3rd Qu.:0.00000  \n",
       " Complementary:  743                        Max.   :1.00000  \n",
       " (Other)      :  239                                         \n",
       " previous_cancellations previous_bookings_not_canceled reserved_room_type\n",
       " Min.   : 0.00000       Min.   : 0.0000                A      :85994     \n",
       " 1st Qu.: 0.00000       1st Qu.: 0.0000                D      :19201     \n",
       " Median : 0.00000       Median : 0.0000                E      : 6535     \n",
       " Mean   : 0.08712       Mean   : 0.1371                F      : 2897     \n",
       " 3rd Qu.: 0.00000       3rd Qu.: 0.0000                G      : 2094     \n",
       " Max.   :26.00000       Max.   :72.0000                B      : 1118     \n",
       "                                                       (Other): 1551     \n",
       " assigned_room_type booking_changes       deposit_type        agent      \n",
       " A      :74053      Min.   : 0.0000   No Deposit:104641   9      :31961  \n",
       " D      :25322      1st Qu.: 0.0000   Non Refund: 14587   NULL   :16340  \n",
       " E      : 7806      Median : 0.0000   Refundable:   162   240    :13922  \n",
       " F      : 3751      Mean   : 0.2211                       1      : 7191  \n",
       " G      : 2553      3rd Qu.: 0.0000                       14     : 3640  \n",
       " C      : 2375      Max.   :21.0000                       7      : 3539  \n",
       " (Other): 3530                                            (Other):42797  \n",
       "    company       days_in_waiting_list         customer_type  \n",
       " NULL   :112593   Min.   :  0.000      Contract       : 4076  \n",
       " 40     :   927   1st Qu.:  0.000      Group          :  577  \n",
       " 223    :   784   Median :  0.000      Transient      :89613  \n",
       " 67     :   267   Mean   :  2.321      Transient-Party:25124  \n",
       " 45     :   250   3rd Qu.:  0.000                             \n",
       " 153    :   215   Max.   :391.000                             \n",
       " (Other):  4354                                               \n",
       "      adr          required_car_parking_spaces total_of_special_requests\n",
       " Min.   :  -6.38   Min.   :0.00000             Min.   :0.0000           \n",
       " 1st Qu.:  69.29   1st Qu.:0.00000             1st Qu.:0.0000           \n",
       " Median :  94.58   Median :0.00000             Median :0.0000           \n",
       " Mean   : 101.83   Mean   :0.06252             Mean   :0.5714           \n",
       " 3rd Qu.: 126.00   3rd Qu.:0.00000             3rd Qu.:1.0000           \n",
       " Max.   :5400.00   Max.   :8.00000             Max.   :5.0000           \n",
       "                                                                        \n",
       " reservation_status reservation_status_date\n",
       " Canceled :43017    2015-10-21:  1461      \n",
       " Check-Out:75166    2015-07-06:   805      \n",
       " No-Show  : 1207    2016-11-25:   790      \n",
       "                    2015-01-01:   763      \n",
       "                    2016-01-18:   625      \n",
       "                    2015-07-02:   469      \n",
       "                    (Other)   :114477      "
      ]
     },
     "metadata": {},
     "output_type": "display_data"
    }
   ],
   "source": [
    "summary(hotel)"
   ]
  },
  {
   "cell_type": "code",
   "execution_count": null,
   "metadata": {},
   "outputs": [],
   "source": []
  }
 ],
 "metadata": {
  "kernelspec": {
   "display_name": "R",
   "language": "R",
   "name": "ir"
  },
  "language_info": {
   "codemirror_mode": "r",
   "file_extension": ".r",
   "mimetype": "text/x-r-source",
   "name": "R",
   "pygments_lexer": "r",
   "version": "3.6.1"
  }
 },
 "nbformat": 4,
 "nbformat_minor": 4
}
