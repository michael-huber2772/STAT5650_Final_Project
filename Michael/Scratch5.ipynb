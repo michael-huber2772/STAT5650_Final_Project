{
 "cells": [
  {
   "cell_type": "code",
   "execution_count": 1,
   "metadata": {},
   "outputs": [
    {
     "name": "stderr",
     "output_type": "stream",
     "text": [
      "Warning message:\n",
      "\"package 'verification' was built under R version 3.6.2\"Loading required package: fields\n",
      "Warning message:\n",
      "\"package 'fields' was built under R version 3.6.2\"Loading required package: spam\n",
      "Warning message:\n",
      "\"package 'spam' was built under R version 3.6.2\"Loading required package: dotCall64\n",
      "Warning message:\n",
      "\"package 'dotCall64' was built under R version 3.6.2\"Loading required package: grid\n",
      "Spam version 2.5-1 (2019-12-12) is loaded.\n",
      "Type 'help( Spam)' or 'demo( spam)' for a short introduction \n",
      "and overview of this package.\n",
      "Help for individual functions is also obtained by adding the\n",
      "suffix '.spam' to the function name, e.g. 'help( chol.spam)'.\n",
      "\n",
      "Attaching package: 'spam'\n",
      "\n",
      "The following objects are masked from 'package:base':\n",
      "\n",
      "    backsolve, forwardsolve\n",
      "\n",
      "Loading required package: maps\n",
      "Warning message:\n",
      "\"package 'maps' was built under R version 3.6.2\"See https://github.com/NCAR/Fields for\n",
      " an extensive vignette, other supplements and source code \n",
      "Loading required package: boot\n",
      "Loading required package: CircStats\n",
      "Warning message:\n",
      "\"package 'CircStats' was built under R version 3.6.2\"Loading required package: MASS\n",
      "Loading required package: dtw\n",
      "Warning message:\n",
      "\"package 'dtw' was built under R version 3.6.2\"Loading required package: proxy\n",
      "Warning message:\n",
      "\"package 'proxy' was built under R version 3.6.2\"\n",
      "Attaching package: 'proxy'\n",
      "\n",
      "The following object is masked from 'package:spam':\n",
      "\n",
      "    as.matrix\n",
      "\n",
      "The following objects are masked from 'package:stats':\n",
      "\n",
      "    as.dist, dist\n",
      "\n",
      "The following object is masked from 'package:base':\n",
      "\n",
      "    as.matrix\n",
      "\n",
      "Loaded dtw v1.21-3. See ?dtw for help, citation(\"dtw\") for use in publication.\n",
      "\n",
      "Warning message:\n",
      "\"package 'caret' was built under R version 3.6.2\"Loading required package: lattice\n",
      "\n",
      "Attaching package: 'lattice'\n",
      "\n",
      "The following object is masked from 'package:boot':\n",
      "\n",
      "    melanoma\n",
      "\n",
      "Loading required package: ggplot2\n",
      "Registered S3 method overwritten by 'pROC':\n",
      "  method    from        \n",
      "  lines.roc verification\n",
      "Warning message:\n",
      "\"package 'gbm' was built under R version 3.6.3\"Loaded gbm 2.1.5\n"
     ]
    }
   ],
   "source": [
    "library(verification)\n",
    "library(caret)\n",
    "library(e1071) # SVM\n",
    "library(gbm) # GBM"
   ]
  },
  {
   "cell_type": "code",
   "execution_count": 2,
   "metadata": {},
   "outputs": [],
   "source": [
    "hotel = read.csv(\"../Data/hotel_bookings.csv\")"
   ]
  },
  {
   "cell_type": "code",
   "execution_count": 16,
   "metadata": {},
   "outputs": [],
   "source": [
    "kappa=function(x){\n",
    "      n=sum(x)\n",
    "      pobs=(x[1,1]+x[2,2])/n\n",
    "      pexp=(sum(x[1,])*sum(x[,1])+sum(x[2,])*sum(x[,2]))/n^2\n",
    "      kappa=(pobs-pexp)/(1-pexp)\n",
    "      t1=0\n",
    "      t2=0\n",
    "      t3=0\n",
    "      pii=x/n\n",
    "      pidot=apply(pii,1,sum)\n",
    "      pdotj=apply(pii,2,sum)\n",
    "      for(i in 1:2){\n",
    "            t1 = t1 + pii[i,i]*((1-pexp) - (1-pobs)*(pidot[i]+pdotj[i]))^2\n",
    "      }\n",
    "      t2 = pii[1,2]*(pdotj[1]+pidot[2])^2 + pii[2,1]*(pdotj[2] + pidot[1])^2\n",
    "      t3 = (pobs*pexp-2*pexp+pobs)^2\n",
    "      vhat = (t1 + t2*(1-pobs)^2 -t3)/(n*(1-pexp)^4)\n",
    "      se=sqrt(vhat)\n",
    "      return(c(kappa,se))\n",
    "}\n",
    "\n",
    "\n",
    "class.sum=function(truth,predicted){\n",
    "     xt=table(truth,round(predicted+0.000001))\n",
    "     pcc=round(100*sum(diag(xt))/sum(xt),2)\n",
    "     spec=round(100*xt[1,1]/sum(xt[1,]),2)\n",
    "     sens=round(100*xt[2,2]/sum(xt[2,]),2)\n",
    "     kap=round(kappa(xt)[1],4)\n",
    "     au=round(roc.area(truth,predicted)$A,4)\n",
    "     return(cbind(c(\"Percent Correctly Classified = \",\"Specificity = \",\"Sensitivity = \",\"Kappa =\",\"AUC= \"),c(pcc,spec,sens,kap,au)))\n",
    "     }"
   ]
  },
  {
   "cell_type": "code",
   "execution_count": 3,
   "metadata": {},
   "outputs": [
    {
     "data": {
      "text/html": [
       "<table>\n",
       "<thead><tr><th scope=col>hotel</th><th scope=col>is_canceled</th><th scope=col>lead_time</th><th scope=col>arrival_date_year</th><th scope=col>arrival_date_month</th><th scope=col>arrival_date_week_number</th><th scope=col>arrival_date_day_of_month</th><th scope=col>stays_in_weekend_nights</th><th scope=col>stays_in_week_nights</th><th scope=col>adults</th><th scope=col>...</th><th scope=col>deposit_type</th><th scope=col>agent</th><th scope=col>company</th><th scope=col>days_in_waiting_list</th><th scope=col>customer_type</th><th scope=col>adr</th><th scope=col>required_car_parking_spaces</th><th scope=col>total_of_special_requests</th><th scope=col>reservation_status</th><th scope=col>reservation_status_date</th></tr></thead>\n",
       "<tbody>\n",
       "\t<tr><td>Resort Hotel</td><td>0           </td><td>342         </td><td>2015        </td><td>July        </td><td>27          </td><td>1           </td><td>0           </td><td>0           </td><td>2           </td><td>...         </td><td>No Deposit  </td><td>NULL        </td><td>NULL        </td><td>0           </td><td>Transient   </td><td> 0          </td><td>0           </td><td>0           </td><td>Check-Out   </td><td>2015-07-01  </td></tr>\n",
       "\t<tr><td>Resort Hotel</td><td>0           </td><td>737         </td><td>2015        </td><td>July        </td><td>27          </td><td>1           </td><td>0           </td><td>0           </td><td>2           </td><td>...         </td><td>No Deposit  </td><td>NULL        </td><td>NULL        </td><td>0           </td><td>Transient   </td><td> 0          </td><td>0           </td><td>0           </td><td>Check-Out   </td><td>2015-07-01  </td></tr>\n",
       "\t<tr><td>Resort Hotel</td><td>0           </td><td>  7         </td><td>2015        </td><td>July        </td><td>27          </td><td>1           </td><td>0           </td><td>1           </td><td>1           </td><td>...         </td><td>No Deposit  </td><td>NULL        </td><td>NULL        </td><td>0           </td><td>Transient   </td><td>75          </td><td>0           </td><td>0           </td><td>Check-Out   </td><td>2015-07-02  </td></tr>\n",
       "\t<tr><td>Resort Hotel</td><td>0           </td><td> 13         </td><td>2015        </td><td>July        </td><td>27          </td><td>1           </td><td>0           </td><td>1           </td><td>1           </td><td>...         </td><td>No Deposit  </td><td>304         </td><td>NULL        </td><td>0           </td><td>Transient   </td><td>75          </td><td>0           </td><td>0           </td><td>Check-Out   </td><td>2015-07-02  </td></tr>\n",
       "\t<tr><td>Resort Hotel</td><td>0           </td><td> 14         </td><td>2015        </td><td>July        </td><td>27          </td><td>1           </td><td>0           </td><td>2           </td><td>2           </td><td>...         </td><td>No Deposit  </td><td>240         </td><td>NULL        </td><td>0           </td><td>Transient   </td><td>98          </td><td>0           </td><td>1           </td><td>Check-Out   </td><td>2015-07-03  </td></tr>\n",
       "\t<tr><td>Resort Hotel</td><td>0           </td><td> 14         </td><td>2015        </td><td>July        </td><td>27          </td><td>1           </td><td>0           </td><td>2           </td><td>2           </td><td>...         </td><td>No Deposit  </td><td>240         </td><td>NULL        </td><td>0           </td><td>Transient   </td><td>98          </td><td>0           </td><td>1           </td><td>Check-Out   </td><td>2015-07-03  </td></tr>\n",
       "</tbody>\n",
       "</table>\n"
      ],
      "text/latex": [
       "\\begin{tabular}{r|llllllllllllllllllllllllllllllll}\n",
       " hotel & is\\_canceled & lead\\_time & arrival\\_date\\_year & arrival\\_date\\_month & arrival\\_date\\_week\\_number & arrival\\_date\\_day\\_of\\_month & stays\\_in\\_weekend\\_nights & stays\\_in\\_week\\_nights & adults & ... & deposit\\_type & agent & company & days\\_in\\_waiting\\_list & customer\\_type & adr & required\\_car\\_parking\\_spaces & total\\_of\\_special\\_requests & reservation\\_status & reservation\\_status\\_date\\\\\n",
       "\\hline\n",
       "\t Resort Hotel & 0            & 342          & 2015         & July         & 27           & 1            & 0            & 0            & 2            & ...          & No Deposit   & NULL         & NULL         & 0            & Transient    &  0           & 0            & 0            & Check-Out    & 2015-07-01  \\\\\n",
       "\t Resort Hotel & 0            & 737          & 2015         & July         & 27           & 1            & 0            & 0            & 2            & ...          & No Deposit   & NULL         & NULL         & 0            & Transient    &  0           & 0            & 0            & Check-Out    & 2015-07-01  \\\\\n",
       "\t Resort Hotel & 0            &   7          & 2015         & July         & 27           & 1            & 0            & 1            & 1            & ...          & No Deposit   & NULL         & NULL         & 0            & Transient    & 75           & 0            & 0            & Check-Out    & 2015-07-02  \\\\\n",
       "\t Resort Hotel & 0            &  13          & 2015         & July         & 27           & 1            & 0            & 1            & 1            & ...          & No Deposit   & 304          & NULL         & 0            & Transient    & 75           & 0            & 0            & Check-Out    & 2015-07-02  \\\\\n",
       "\t Resort Hotel & 0            &  14          & 2015         & July         & 27           & 1            & 0            & 2            & 2            & ...          & No Deposit   & 240          & NULL         & 0            & Transient    & 98           & 0            & 1            & Check-Out    & 2015-07-03  \\\\\n",
       "\t Resort Hotel & 0            &  14          & 2015         & July         & 27           & 1            & 0            & 2            & 2            & ...          & No Deposit   & 240          & NULL         & 0            & Transient    & 98           & 0            & 1            & Check-Out    & 2015-07-03  \\\\\n",
       "\\end{tabular}\n"
      ],
      "text/markdown": [
       "\n",
       "| hotel | is_canceled | lead_time | arrival_date_year | arrival_date_month | arrival_date_week_number | arrival_date_day_of_month | stays_in_weekend_nights | stays_in_week_nights | adults | ... | deposit_type | agent | company | days_in_waiting_list | customer_type | adr | required_car_parking_spaces | total_of_special_requests | reservation_status | reservation_status_date |\n",
       "|---|---|---|---|---|---|---|---|---|---|---|---|---|---|---|---|---|---|---|---|---|\n",
       "| Resort Hotel | 0            | 342          | 2015         | July         | 27           | 1            | 0            | 0            | 2            | ...          | No Deposit   | NULL         | NULL         | 0            | Transient    |  0           | 0            | 0            | Check-Out    | 2015-07-01   |\n",
       "| Resort Hotel | 0            | 737          | 2015         | July         | 27           | 1            | 0            | 0            | 2            | ...          | No Deposit   | NULL         | NULL         | 0            | Transient    |  0           | 0            | 0            | Check-Out    | 2015-07-01   |\n",
       "| Resort Hotel | 0            |   7          | 2015         | July         | 27           | 1            | 0            | 1            | 1            | ...          | No Deposit   | NULL         | NULL         | 0            | Transient    | 75           | 0            | 0            | Check-Out    | 2015-07-02   |\n",
       "| Resort Hotel | 0            |  13          | 2015         | July         | 27           | 1            | 0            | 1            | 1            | ...          | No Deposit   | 304          | NULL         | 0            | Transient    | 75           | 0            | 0            | Check-Out    | 2015-07-02   |\n",
       "| Resort Hotel | 0            |  14          | 2015         | July         | 27           | 1            | 0            | 2            | 2            | ...          | No Deposit   | 240          | NULL         | 0            | Transient    | 98           | 0            | 1            | Check-Out    | 2015-07-03   |\n",
       "| Resort Hotel | 0            |  14          | 2015         | July         | 27           | 1            | 0            | 2            | 2            | ...          | No Deposit   | 240          | NULL         | 0            | Transient    | 98           | 0            | 1            | Check-Out    | 2015-07-03   |\n",
       "\n"
      ],
      "text/plain": [
       "  hotel        is_canceled lead_time arrival_date_year arrival_date_month\n",
       "1 Resort Hotel 0           342       2015              July              \n",
       "2 Resort Hotel 0           737       2015              July              \n",
       "3 Resort Hotel 0             7       2015              July              \n",
       "4 Resort Hotel 0            13       2015              July              \n",
       "5 Resort Hotel 0            14       2015              July              \n",
       "6 Resort Hotel 0            14       2015              July              \n",
       "  arrival_date_week_number arrival_date_day_of_month stays_in_weekend_nights\n",
       "1 27                       1                         0                      \n",
       "2 27                       1                         0                      \n",
       "3 27                       1                         0                      \n",
       "4 27                       1                         0                      \n",
       "5 27                       1                         0                      \n",
       "6 27                       1                         0                      \n",
       "  stays_in_week_nights adults ... deposit_type agent company\n",
       "1 0                    2      ... No Deposit   NULL  NULL   \n",
       "2 0                    2      ... No Deposit   NULL  NULL   \n",
       "3 1                    1      ... No Deposit   NULL  NULL   \n",
       "4 1                    1      ... No Deposit   304   NULL   \n",
       "5 2                    2      ... No Deposit   240   NULL   \n",
       "6 2                    2      ... No Deposit   240   NULL   \n",
       "  days_in_waiting_list customer_type adr required_car_parking_spaces\n",
       "1 0                    Transient      0  0                          \n",
       "2 0                    Transient      0  0                          \n",
       "3 0                    Transient     75  0                          \n",
       "4 0                    Transient     75  0                          \n",
       "5 0                    Transient     98  0                          \n",
       "6 0                    Transient     98  0                          \n",
       "  total_of_special_requests reservation_status reservation_status_date\n",
       "1 0                         Check-Out          2015-07-01             \n",
       "2 0                         Check-Out          2015-07-01             \n",
       "3 0                         Check-Out          2015-07-02             \n",
       "4 0                         Check-Out          2015-07-02             \n",
       "5 1                         Check-Out          2015-07-03             \n",
       "6 1                         Check-Out          2015-07-03             "
      ]
     },
     "metadata": {},
     "output_type": "display_data"
    }
   ],
   "source": [
    "head(hotel)"
   ]
  },
  {
   "cell_type": "code",
   "execution_count": 6,
   "metadata": {},
   "outputs": [
    {
     "data": {
      "text/html": [
       "<ol class=list-inline>\n",
       "\t<li>0</li>\n",
       "\t<li>1</li>\n",
       "</ol>\n"
      ],
      "text/latex": [
       "\\begin{enumerate*}\n",
       "\\item 0\n",
       "\\item 1\n",
       "\\end{enumerate*}\n"
      ],
      "text/markdown": [
       "1. 0\n",
       "2. 1\n",
       "\n",
       "\n"
      ],
      "text/plain": [
       "[1] 0 1"
      ]
     },
     "metadata": {},
     "output_type": "display_data"
    }
   ],
   "source": [
    "unique(hotel$is_canceled)"
   ]
  },
  {
   "cell_type": "code",
   "execution_count": 4,
   "metadata": {},
   "outputs": [
    {
     "data": {
      "text/plain": [
       "          hotel        is_canceled       lead_time   arrival_date_year\n",
       " City Hotel  :79330   Min.   :0.0000   Min.   :  0   Min.   :2015     \n",
       " Resort Hotel:40060   1st Qu.:0.0000   1st Qu.: 18   1st Qu.:2016     \n",
       "                      Median :0.0000   Median : 69   Median :2016     \n",
       "                      Mean   :0.3704   Mean   :104   Mean   :2016     \n",
       "                      3rd Qu.:1.0000   3rd Qu.:160   3rd Qu.:2017     \n",
       "                      Max.   :1.0000   Max.   :737   Max.   :2017     \n",
       "                                                                      \n",
       " arrival_date_month arrival_date_week_number arrival_date_day_of_month\n",
       " August :13877      Min.   : 1.00            Min.   : 1.0             \n",
       " July   :12661      1st Qu.:16.00            1st Qu.: 8.0             \n",
       " May    :11791      Median :28.00            Median :16.0             \n",
       " October:11160      Mean   :27.17            Mean   :15.8             \n",
       " April  :11089      3rd Qu.:38.00            3rd Qu.:23.0             \n",
       " June   :10939      Max.   :53.00            Max.   :31.0             \n",
       " (Other):47873                                                        \n",
       " stays_in_weekend_nights stays_in_week_nights     adults      \n",
       " Min.   : 0.0000         Min.   : 0.0         Min.   : 0.000  \n",
       " 1st Qu.: 0.0000         1st Qu.: 1.0         1st Qu.: 2.000  \n",
       " Median : 1.0000         Median : 2.0         Median : 2.000  \n",
       " Mean   : 0.9276         Mean   : 2.5         Mean   : 1.856  \n",
       " 3rd Qu.: 2.0000         3rd Qu.: 3.0         3rd Qu.: 2.000  \n",
       " Max.   :19.0000         Max.   :50.0         Max.   :55.000  \n",
       "                                                              \n",
       "    children           babies                 meal          country     \n",
       " Min.   : 0.0000   Min.   : 0.000000   BB       :92310   PRT    :48590  \n",
       " 1st Qu.: 0.0000   1st Qu.: 0.000000   FB       :  798   GBR    :12129  \n",
       " Median : 0.0000   Median : 0.000000   HB       :14463   FRA    :10415  \n",
       " Mean   : 0.1039   Mean   : 0.007949   SC       :10650   ESP    : 8568  \n",
       " 3rd Qu.: 0.0000   3rd Qu.: 0.000000   Undefined: 1169   DEU    : 7287  \n",
       " Max.   :10.0000   Max.   :10.000000                     ITA    : 3766  \n",
       " NA's   :4                                               (Other):28635  \n",
       "       market_segment  distribution_channel is_repeated_guest\n",
       " Online TA    :56477   Corporate: 6677      Min.   :0.00000  \n",
       " Offline TA/TO:24219   Direct   :14645      1st Qu.:0.00000  \n",
       " Groups       :19811   GDS      :  193      Median :0.00000  \n",
       " Direct       :12606   TA/TO    :97870      Mean   :0.03191  \n",
       " Corporate    : 5295   Undefined:    5      3rd Qu.:0.00000  \n",
       " Complementary:  743                        Max.   :1.00000  \n",
       " (Other)      :  239                                         \n",
       " previous_cancellations previous_bookings_not_canceled reserved_room_type\n",
       " Min.   : 0.00000       Min.   : 0.0000                A      :85994     \n",
       " 1st Qu.: 0.00000       1st Qu.: 0.0000                D      :19201     \n",
       " Median : 0.00000       Median : 0.0000                E      : 6535     \n",
       " Mean   : 0.08712       Mean   : 0.1371                F      : 2897     \n",
       " 3rd Qu.: 0.00000       3rd Qu.: 0.0000                G      : 2094     \n",
       " Max.   :26.00000       Max.   :72.0000                B      : 1118     \n",
       "                                                       (Other): 1551     \n",
       " assigned_room_type booking_changes       deposit_type        agent      \n",
       " A      :74053      Min.   : 0.0000   No Deposit:104641   9      :31961  \n",
       " D      :25322      1st Qu.: 0.0000   Non Refund: 14587   NULL   :16340  \n",
       " E      : 7806      Median : 0.0000   Refundable:   162   240    :13922  \n",
       " F      : 3751      Mean   : 0.2211                       1      : 7191  \n",
       " G      : 2553      3rd Qu.: 0.0000                       14     : 3640  \n",
       " C      : 2375      Max.   :21.0000                       7      : 3539  \n",
       " (Other): 3530                                            (Other):42797  \n",
       "    company       days_in_waiting_list         customer_type  \n",
       " NULL   :112593   Min.   :  0.000      Contract       : 4076  \n",
       " 40     :   927   1st Qu.:  0.000      Group          :  577  \n",
       " 223    :   784   Median :  0.000      Transient      :89613  \n",
       " 67     :   267   Mean   :  2.321      Transient-Party:25124  \n",
       " 45     :   250   3rd Qu.:  0.000                             \n",
       " 153    :   215   Max.   :391.000                             \n",
       " (Other):  4354                                               \n",
       "      adr          required_car_parking_spaces total_of_special_requests\n",
       " Min.   :  -6.38   Min.   :0.00000             Min.   :0.0000           \n",
       " 1st Qu.:  69.29   1st Qu.:0.00000             1st Qu.:0.0000           \n",
       " Median :  94.58   Median :0.00000             Median :0.0000           \n",
       " Mean   : 101.83   Mean   :0.06252             Mean   :0.5714           \n",
       " 3rd Qu.: 126.00   3rd Qu.:0.00000             3rd Qu.:1.0000           \n",
       " Max.   :5400.00   Max.   :8.00000             Max.   :5.0000           \n",
       "                                                                        \n",
       " reservation_status reservation_status_date\n",
       " Canceled :43017    2015-10-21:  1461      \n",
       " Check-Out:75166    2015-07-06:   805      \n",
       " No-Show  : 1207    2016-11-25:   790      \n",
       "                    2015-01-01:   763      \n",
       "                    2016-01-18:   625      \n",
       "                    2015-07-02:   469      \n",
       "                    (Other)   :114477      "
      ]
     },
     "metadata": {},
     "output_type": "display_data"
    }
   ],
   "source": [
    "summary(hotel)"
   ]
  },
  {
   "cell_type": "code",
   "execution_count": 4,
   "metadata": {},
   "outputs": [
    {
     "name": "stdout",
     "output_type": "stream",
     "text": [
      "'data.frame':\t119390 obs. of  32 variables:\n",
      " $ hotel                         : Factor w/ 2 levels \"City Hotel\",\"Resort Hotel\": 2 2 2 2 2 2 2 2 2 2 ...\n",
      " $ is_canceled                   : int  0 0 0 0 0 0 0 0 1 1 ...\n",
      " $ lead_time                     : int  342 737 7 13 14 14 0 9 85 75 ...\n",
      " $ arrival_date_year             : int  2015 2015 2015 2015 2015 2015 2015 2015 2015 2015 ...\n",
      " $ arrival_date_month            : Factor w/ 12 levels \"April\",\"August\",..: 6 6 6 6 6 6 6 6 6 6 ...\n",
      " $ arrival_date_week_number      : int  27 27 27 27 27 27 27 27 27 27 ...\n",
      " $ arrival_date_day_of_month     : int  1 1 1 1 1 1 1 1 1 1 ...\n",
      " $ stays_in_weekend_nights       : int  0 0 0 0 0 0 0 0 0 0 ...\n",
      " $ stays_in_week_nights          : int  0 0 1 1 2 2 2 2 3 3 ...\n",
      " $ adults                        : int  2 2 1 1 2 2 2 2 2 2 ...\n",
      " $ children                      : int  0 0 0 0 0 0 0 0 0 0 ...\n",
      " $ babies                        : int  0 0 0 0 0 0 0 0 0 0 ...\n",
      " $ meal                          : Factor w/ 5 levels \"BB\",\"FB\",\"HB\",..: 1 1 1 1 1 1 1 2 1 3 ...\n",
      " $ country                       : Factor w/ 178 levels \"ABW\",\"AGO\",\"AIA\",..: 137 137 60 60 60 60 137 137 137 137 ...\n",
      " $ market_segment                : Factor w/ 8 levels \"Aviation\",\"Complementary\",..: 4 4 4 3 7 7 4 4 7 6 ...\n",
      " $ distribution_channel          : Factor w/ 5 levels \"Corporate\",\"Direct\",..: 2 2 2 1 4 4 2 2 4 4 ...\n",
      " $ is_repeated_guest             : int  0 0 0 0 0 0 0 0 0 0 ...\n",
      " $ previous_cancellations        : int  0 0 0 0 0 0 0 0 0 0 ...\n",
      " $ previous_bookings_not_canceled: int  0 0 0 0 0 0 0 0 0 0 ...\n",
      " $ reserved_room_type            : Factor w/ 10 levels \"A\",\"B\",\"C\",\"D\",..: 3 3 1 1 1 1 3 3 1 4 ...\n",
      " $ assigned_room_type            : Factor w/ 12 levels \"A\",\"B\",\"C\",\"D\",..: 3 3 3 1 1 1 3 3 1 4 ...\n",
      " $ booking_changes               : int  3 4 0 0 0 0 0 0 0 0 ...\n",
      " $ deposit_type                  : Factor w/ 3 levels \"No Deposit\",\"Non Refund\",..: 1 1 1 1 1 1 1 1 1 1 ...\n",
      " $ agent                         : Factor w/ 334 levels \"1\",\"10\",\"103\",..: 334 334 334 157 103 103 334 156 103 40 ...\n",
      " $ company                       : Factor w/ 353 levels \"10\",\"100\",\"101\",..: 353 353 353 353 353 353 353 353 353 353 ...\n",
      " $ days_in_waiting_list          : int  0 0 0 0 0 0 0 0 0 0 ...\n",
      " $ customer_type                 : Factor w/ 4 levels \"Contract\",\"Group\",..: 3 3 3 3 3 3 3 3 3 3 ...\n",
      " $ adr                           : num  0 0 75 75 98 ...\n",
      " $ required_car_parking_spaces   : int  0 0 0 0 0 0 0 0 0 0 ...\n",
      " $ total_of_special_requests     : int  0 0 0 0 1 1 0 1 1 0 ...\n",
      " $ reservation_status            : Factor w/ 3 levels \"Canceled\",\"Check-Out\",..: 2 2 2 2 2 2 2 2 1 1 ...\n",
      " $ reservation_status_date       : Factor w/ 926 levels \"2014-10-17\",\"2014-11-18\",..: 122 122 123 123 124 124 124 124 73 62 ...\n"
     ]
    }
   ],
   "source": [
    "str(hotel)"
   ]
  },
  {
   "cell_type": "code",
   "execution_count": null,
   "metadata": {},
   "outputs": [],
   "source": []
  },
  {
   "cell_type": "code",
   "execution_count": 18,
   "metadata": {},
   "outputs": [],
   "source": [
    "hotel_samp = hotel[sample(nrow(hotel), 4000), ]"
   ]
  },
  {
   "cell_type": "code",
   "execution_count": 14,
   "metadata": {},
   "outputs": [
    {
     "name": "stdout",
     "output_type": "stream",
     "text": [
      "'data.frame':\t200 obs. of  32 variables:\n",
      " $ hotel                         : Factor w/ 2 levels \"City Hotel\",\"Resort Hotel\": 2 2 1 2 2 2 1 1 1 1 ...\n",
      " $ is_canceled                   : int  1 1 1 1 0 1 0 1 0 0 ...\n",
      " $ lead_time                     : int  130 181 28 58 2 227 89 195 0 133 ...\n",
      " $ arrival_date_year             : int  2016 2017 2016 2016 2017 2017 2015 2015 2017 2016 ...\n",
      " $ arrival_date_month            : Factor w/ 12 levels \"April\",\"August\",..: 11 8 3 8 6 9 10 12 4 8 ...\n",
      " $ arrival_date_week_number      : int  43 9 51 13 28 18 48 38 6 11 ...\n",
      " $ arrival_date_day_of_month     : int  21 1 15 26 15 4 28 17 6 11 ...\n",
      " $ stays_in_weekend_nights       : int  0 6 1 2 2 2 2 0 1 1 ...\n",
      " $ stays_in_week_nights          : int  1 19 3 1 1 8 1 2 1 2 ...\n",
      " $ adults                        : int  2 2 3 2 2 2 2 2 2 2 ...\n",
      " $ children                      : int  2 0 0 2 0 0 0 0 0 0 ...\n",
      " $ babies                        : int  0 0 0 0 0 0 0 0 0 0 ...\n",
      " $ meal                          : Factor w/ 5 levels \"BB\",\"FB\",\"HB\",..: 1 3 1 1 1 1 1 1 1 1 ...\n",
      " $ country                       : Factor w/ 178 levels \"ABW\",\"AGO\",\"AIA\",..: 156 137 57 137 137 60 16 137 82 132 ...\n",
      " $ market_segment                : Factor w/ 8 levels \"Aviation\",\"Complementary\",..: 7 5 7 7 7 7 7 6 7 6 ...\n",
      " $ distribution_channel          : Factor w/ 5 levels \"Corporate\",\"Direct\",..: 4 4 4 4 4 4 4 4 4 4 ...\n",
      " $ is_repeated_guest             : int  0 0 0 0 0 0 0 0 0 0 ...\n",
      " $ previous_cancellations        : int  0 0 0 0 0 0 0 1 0 0 ...\n",
      " $ previous_bookings_not_canceled: int  0 0 0 0 0 0 0 0 0 0 ...\n",
      " $ reserved_room_type            : Factor w/ 10 levels \"A\",\"B\",\"C\",\"D\",..: 8 1 4 7 1 5 1 1 1 1 ...\n",
      " $ assigned_room_type            : Factor w/ 12 levels \"A\",\"B\",\"C\",\"D\",..: 8 1 4 7 1 5 2 1 1 1 ...\n",
      " $ booking_changes               : int  0 0 0 0 0 0 0 0 0 0 ...\n",
      " $ deposit_type                  : Factor w/ 3 levels \"No Deposit\",\"Non Refund\",..: 1 1 1 1 1 1 1 1 1 1 ...\n",
      " $ agent                         : Factor w/ 334 levels \"1\",\"10\",\"103\",..: 103 247 324 103 103 103 305 80 324 23 ...\n",
      " $ company                       : Factor w/ 353 levels \"10\",\"100\",\"101\",..: 353 353 353 353 353 353 353 353 353 353 ...\n",
      " $ days_in_waiting_list          : int  0 0 0 0 0 0 0 0 0 0 ...\n",
      " $ customer_type                 : Factor w/ 4 levels \"Contract\",\"Group\",..: 3 4 3 3 3 3 3 3 3 4 ...\n",
      " $ adr                           : num  123 58.6 130.9 95.7 194 ...\n",
      " $ required_car_parking_spaces   : int  0 0 0 0 1 0 0 0 0 0 ...\n",
      " $ total_of_special_requests     : int  0 0 2 0 1 0 2 0 0 1 ...\n",
      " $ reservation_status            : Factor w/ 3 levels \"Canceled\",\"Check-Out\",..: 1 1 1 1 2 1 2 1 2 2 ...\n",
      " $ reservation_status_date       : Factor w/ 926 levels \"2014-10-17\",\"2014-11-18\",..: 477 647 630 380 870 568 275 144 710 379 ...\n"
     ]
    }
   ],
   "source": [
    "str(hotel_samp)"
   ]
  },
  {
   "cell_type": "markdown",
   "metadata": {},
   "source": [
    "# Support Vector Machines"
   ]
  },
  {
   "cell_type": "markdown",
   "metadata": {},
   "source": [
    "## Untuned SVM"
   ]
  },
  {
   "cell_type": "code",
   "execution_count": 19,
   "metadata": {},
   "outputs": [
    {
     "data": {
      "text/plain": [
       "   \n",
       "       0    1\n",
       "  0    3 2516\n",
       "  1 1481    0"
      ]
     },
     "metadata": {},
     "output_type": "display_data"
    },
    {
     "data": {
      "text/html": [
       "<table>\n",
       "<tbody>\n",
       "\t<tr><td>Percent Correctly Classified = </td><td>0.08                           </td></tr>\n",
       "\t<tr><td>Specificity =                  </td><td>0.12                           </td></tr>\n",
       "\t<tr><td>Sensitivity =                  </td><td>0                              </td></tr>\n",
       "\t<tr><td>Kappa =                        </td><td>-0.8731                        </td></tr>\n",
       "\t<tr><td>AUC=                           </td><td>0                              </td></tr>\n",
       "</tbody>\n",
       "</table>\n"
      ],
      "text/latex": [
       "\\begin{tabular}{r|ll}\n",
       "\t Percent Correctly Classified =  & 0.08                           \\\\\n",
       "\t Specificity =                   & 0.12                           \\\\\n",
       "\t Sensitivity =                   & 0                              \\\\\n",
       "\t Kappa =                         & -0.8731                        \\\\\n",
       "\t AUC=                            & 0                              \\\\\n",
       "\\end{tabular}\n"
      ],
      "text/markdown": [
       "\n",
       "| Percent Correctly Classified =  | 0.08                            |\n",
       "| Specificity =                   | 0.12                            |\n",
       "| Sensitivity =                   | 0                               |\n",
       "| Kappa =                         | -0.8731                         |\n",
       "| AUC=                            | 0                               |\n",
       "\n"
      ],
      "text/plain": [
       " [,1]                            [,2]   \n",
       " Percent Correctly Classified =  0.08   \n",
       " Specificity =                   0.12   \n",
       " Sensitivity =                   0      \n",
       " Kappa =                         -0.8731\n",
       " AUC=                            0      "
      ]
     },
     "metadata": {},
     "output_type": "display_data"
    }
   ],
   "source": [
    "set.seed(424)\n",
    "data = hotel_samp\n",
    "# Nests = subset(nest, select = c(Nest, NumTree3to6in, NumTree9to15in,\n",
    "#                                 NumTree1to3in, NumTree6to9in, NumDownSnags,\n",
    "#                                 NumConifer, NumTreegt15in, NumSnags, \n",
    "#                                 NumTreelt1in, StandType, PctShrubCover))\n",
    "\n",
    "\n",
    "hotel.svm.xvalpred=rep(0,nrow(data))\n",
    "xvs=rep(1:10,length=nrow(data))\n",
    "xvs=sample(xvs)\n",
    "for(i in 1:10){\n",
    "      train=data[xvs!=i,]\n",
    "      test=data[xvs==i,]\n",
    "      glub=svm(as.factor(is_canceled)~ . ,probability=TRUE,data=train)\n",
    "      hotel.svm.xvalpred[xvs==i]=attr(predict(glub,test,probability=TRUE),\"probabilities\")[,2]\n",
    "}\n",
    "\n",
    "table(data$is_canceled,round(hotel.svm.xvalpred))\n",
    "class.sum(data$is_canceled,hotel.svm.xvalpred)"
   ]
  },
  {
   "cell_type": "code",
   "execution_count": null,
   "metadata": {},
   "outputs": [],
   "source": []
  },
  {
   "cell_type": "markdown",
   "metadata": {},
   "source": [
    "## Tuned SVM"
   ]
  },
  {
   "cell_type": "code",
   "execution_count": null,
   "metadata": {},
   "outputs": [],
   "source": []
  },
  {
   "cell_type": "markdown",
   "metadata": {},
   "source": [
    "# Gradient Boosting Machines"
   ]
  },
  {
   "cell_type": "markdown",
   "metadata": {},
   "source": [
    "## Untuned Gradient Boosting Machines"
   ]
  },
  {
   "cell_type": "code",
   "execution_count": null,
   "metadata": {},
   "outputs": [],
   "source": [
    "set.seed(424)\n",
    "hotel.gbm.xvalpr=rep(0,nrow(hotel))\n",
    "xvs=rep(1:10,length=nrow(hotel))\n",
    "xvs=sample(xvs)\n",
    "for(i in 1:10){\n",
    "      train=hotel[xvs!=i,]\n",
    "      test=hotel[xvs==i,]\n",
    "      glub=gbm(is_canceled~ . ,distribution=\"bernoulli\",n.trees=5000,data=train)\n",
    "      hotel.gbm.xvalpr[xvs==i]=predict(glub,newdata=test,type=\"response\",n.trees=5000)\n",
    "}\n",
    "\n",
    "table(hotel$is_canceled,round(hotel.gbm.xvalpr))\n",
    "class.sum(hotel$is_canceled,hotel.gbm.xvalpr)"
   ]
  },
  {
   "cell_type": "markdown",
   "metadata": {},
   "source": [
    "## Tuned Gradient Boosting Machines"
   ]
  },
  {
   "cell_type": "code",
   "execution_count": null,
   "metadata": {},
   "outputs": [],
   "source": []
  }
 ],
 "metadata": {
  "kernelspec": {
   "display_name": "R",
   "language": "R",
   "name": "ir"
  },
  "language_info": {
   "codemirror_mode": "r",
   "file_extension": ".r",
   "mimetype": "text/x-r-source",
   "name": "R",
   "pygments_lexer": "r",
   "version": "3.6.1"
  }
 },
 "nbformat": 4,
 "nbformat_minor": 4
}
